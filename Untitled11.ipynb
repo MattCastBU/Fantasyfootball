{
 "cells": [
  {
   "cell_type": "code",
   "execution_count": 81,
   "metadata": {
    "collapsed": false
   },
   "outputs": [
    {
     "name": "stdout",
     "output_type": "stream",
     "text": [
      "['Cody', 'Matt', 'Mack', 'Jake', 'Andrew', 'Colin', 'Jim', 'Fish', 'Todd', 'Frank']\n"
     ]
    }
   ],
   "source": [
    "import random\n",
    "import pandas\n",
    "from random import shuffle\n",
    "\n",
    "random.seed(a=\"2018\")\n",
    "\n",
    "#Frank\n",
    "#Todd\n",
    "#Fish\n",
    "#Jim\n",
    "#Colin\n",
    "#Andrew\n",
    "#Mack\n",
    "#Jake\n",
    "#Cody\n",
    "#Matt\n",
    "\n",
    "list = [\"Frank\",\"Todd\",\"Fish\",\"Jim\",\"Colin\",\"Andrew\",\"Mack\",\"Jake\",\"Cody\",\"Matt\"]\n",
    "\n",
    "first = [list[0]]*(2**0)\n",
    "second= [list[1]]*(2**1)\n",
    "third= [list[2]]*(2**2)\n",
    "fouth= [list[3]]*(2**3)\n",
    "fifth= [list[4]]*(2**4)\n",
    "sixth= [list[5]]*(2**5)\n",
    "seventh= [list[6]]*(2**6)\n",
    "eight= [list[7]]*(2**7)\n",
    "nineth= [list[8]]*(2**8)\n",
    "last= [list[9]]*(2**9)\n",
    "\n",
    "ranks=first+second+third+fouth+fifth+sixth+seventh+eight+nineth+last\n",
    "\n",
    "duplicate = random.sample(ranks, len(ranks))\n",
    "\n",
    "order = []\n",
    "for num in duplicate:\n",
    "    if num not in order:\n",
    "        order.append(num)\n",
    "print(order)\n"
   ]
  },
  {
   "cell_type": "code",
   "execution_count": null,
   "metadata": {
    "collapsed": true
   },
   "outputs": [],
   "source": []
  }
 ],
 "metadata": {
  "kernelspec": {
   "display_name": "Python 3",
   "language": "python",
   "name": "python3"
  },
  "language_info": {
   "codemirror_mode": {
    "name": "ipython",
    "version": 3
   },
   "file_extension": ".py",
   "mimetype": "text/x-python",
   "name": "python",
   "nbconvert_exporter": "python",
   "pygments_lexer": "ipython3",
   "version": "3.6.0"
  }
 },
 "nbformat": 4,
 "nbformat_minor": 2
}
